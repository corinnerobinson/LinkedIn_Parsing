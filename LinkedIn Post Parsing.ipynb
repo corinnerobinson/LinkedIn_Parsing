{
 "cells": [
  {
   "cell_type": "markdown",
   "metadata": {},
   "source": [
    "## Libraries"
   ]
  },
  {
   "cell_type": "code",
   "execution_count": 3,
   "metadata": {
    "collapsed": true
   },
   "outputs": [],
   "source": [
    "import re\n",
    "import requests\n",
    "import pandas as pd\n",
    "from bs4 import BeautifulSoup as BS\n",
    "import dateparser"
   ]
  },
  {
   "cell_type": "markdown",
   "metadata": {},
   "source": [
    "## Load data"
   ]
  },
  {
   "cell_type": "code",
   "execution_count": 4,
   "metadata": {
    "collapsed": true
   },
   "outputs": [],
   "source": [
    "file_path_input = '(10) Genentech_ Overview _ LinkedIn.html'\n",
    "with open(file_path_input, \"r\", encoding='utf-8') as f:\n",
    "    text = f.read()"
   ]
  },
  {
   "cell_type": "markdown",
   "metadata": {},
   "source": [
    "## Processing"
   ]
  },
  {
   "cell_type": "code",
   "execution_count": 5,
   "metadata": {},
   "outputs": [
    {
     "data": {
      "text/plain": [
       "39"
      ]
     },
     "execution_count": 5,
     "metadata": {},
     "output_type": "execute_result"
    }
   ],
   "source": [
    "soup = BS(text, 'html.parser')\n",
    "post_container = soup.find_all('div', class_=\"occludable-update ember-view\")\n",
    "len(post_container)"
   ]
  },
  {
   "cell_type": "code",
   "execution_count": 6,
   "metadata": {
    "collapsed": true
   },
   "outputs": [],
   "source": [
    "class Post:\n",
    "    def __init__(self, soup):\n",
    "        self.soup = soup\n",
    "        \n",
    "    @property\n",
    "    def date(self):\n",
    "        span = self.soup.find_all('span', class_=\"ember-view\")\n",
    "        if span is not None:\n",
    "            val = span[0].get_text().split()[0]\n",
    "            # Translating linkedin shorthand to dateparser shorthand.\n",
    "            val = re.sub(r'm\\b','min', val, 1)\n",
    "            val = re.sub(r'mo\\b','m', val, 1)\n",
    "            date = dateparser.parse(val)\n",
    "            date = date.strftime('%Y-%m-%d')\n",
    "            return date  \n",
    "\n",
    "    @property\n",
    "    def content(self):\n",
    "        span = self.soup.find_all('span', {'aria-hidden': True})\n",
    "        if span is not None:\n",
    "            content = span[2].get_text()\n",
    "            return content       \n",
    "    \n",
    "    @property\n",
    "    def likes(self):\n",
    "        button = self.soup.find('button', 'feed-shared-social-counts__num-likes')\n",
    "        if button is not None:\n",
    "            likes = button.span.get_text().split()[0]\n",
    "            return likes\n",
    "        else:\n",
    "            return 0\n",
    "  \n",
    "    @property\n",
    "    def comments(self):\n",
    "        button = self.soup.find('button', 'feed-shared-social-counts__num-comments')\n",
    "        if button is not None:\n",
    "            comments = button.span.get_text().split()[0]\n",
    "            return comments\n",
    "        else:\n",
    "            return 0\n",
    "    \n",
    "    @property\n",
    "    def article(self):\n",
    "        article = self.soup.find('article')\n",
    "        if article is not None:\n",
    "            data = self.parse_article(article)\n",
    "            return data\n",
    "\n",
    "    @staticmethod\n",
    "    def parse_article(article):\n",
    "        def get_url(article):\n",
    "            a = article.find('a')\n",
    "            if a is not None:\n",
    "                url = a.get('href')\n",
    "                return url\n",
    "\n",
    "        def get_title(article):\n",
    "            span = article.find('span')\n",
    "            if span is not None:\n",
    "                title = span.get_text()\n",
    "                return title\n",
    "\n",
    "        def get_subtitle(article):\n",
    "            h3 = article.find('h3')\n",
    "            if h3 is not None:\n",
    "                subtitle = h3.get_text().strip()\n",
    "                return subtitle\n",
    "\n",
    "        data = {\n",
    "            'media': 'article',\n",
    "            'url': get_url(article),\n",
    "            'title': get_title(article),\n",
    "            'subtitle': get_subtitle(article)\n",
    "        }\n",
    "        return data\n",
    "\n",
    "    @property\n",
    "    def image(self):\n",
    "        image = self.soup.find('div', 'feed-shared-image__image')\n",
    "        if image is not None:\n",
    "            data = self.parse_image(image)\n",
    "            return data\n",
    "      \n",
    "    @staticmethod\n",
    "    def parse_image(image):\n",
    "        def get_background_url(image):\n",
    "            style = image.get('style')\n",
    "            if style is not None:\n",
    "                start = 'url(\"'\n",
    "                i = style.find(start) + len(start)\n",
    "                j = style[i:].find('\"')\n",
    "                url = style[i:j]\n",
    "                return url\n",
    "\n",
    "        data = {\n",
    "            'media': 'image',\n",
    "            'url': get_background_url(image),\n",
    "        }\n",
    "        return data\n",
    "    \n",
    "    @property\n",
    "    def video(self):\n",
    "        video = self.soup.find('iframe')\n",
    "        if video is not None:\n",
    "            div_vid = video.parent.parent.parent\n",
    "            data = self.parse_video(div_vid)\n",
    "            return data\n",
    "        \n",
    "    @staticmethod\n",
    "    def parse_video(div_vid):\n",
    "        def get_title(div_vid):\n",
    "            image = div_vid.find('img')\n",
    "            if image is not None:\n",
    "                title = image.get('alt')\n",
    "                return title\n",
    "            \n",
    "        data = {\n",
    "            'media': 'video',\n",
    "            'title': get_title(div_vid),\n",
    "        }\n",
    "        return data\n",
    "\n",
    "    def parse(self):\n",
    "        d = {\n",
    "            'date': self.date,\n",
    "            'content': self.content,\n",
    "            'likes': self.likes,\n",
    "            'comments': self.comments,\n",
    "        }\n",
    "        \n",
    "        article = self.article\n",
    "        if article is not None:\n",
    "            d.update(article)\n",
    "            \n",
    "        image = self.image\n",
    "        if image is not None:\n",
    "            d.update(image)\n",
    "            \n",
    "        video = self.video\n",
    "        if video is not None:\n",
    "            d.update(video)\n",
    "            \n",
    "        return d"
   ]
  },
  {
   "cell_type": "code",
   "execution_count": 10,
   "metadata": {},
   "outputs": [],
   "source": [
    "l = []\n",
    "\n",
    "for post_soup in post_container:\n",
    "    post = Post(post_soup).parse()\n",
    "    l.append(post)"
   ]
  },
  {
   "cell_type": "code",
   "execution_count": 11,
   "metadata": {},
   "outputs": [
    {
     "name": "stdout",
     "output_type": "stream",
     "text": [
      "(39, 8)\n"
     ]
    },
    {
     "data": {
      "text/html": [
       "<div>\n",
       "<style scoped>\n",
       "    .dataframe tbody tr th:only-of-type {\n",
       "        vertical-align: middle;\n",
       "    }\n",
       "\n",
       "    .dataframe tbody tr th {\n",
       "        vertical-align: top;\n",
       "    }\n",
       "\n",
       "    .dataframe thead th {\n",
       "        text-align: right;\n",
       "    }\n",
       "</style>\n",
       "<table border=\"1\" class=\"dataframe\">\n",
       "  <thead>\n",
       "    <tr style=\"text-align: right;\">\n",
       "      <th></th>\n",
       "      <th>date</th>\n",
       "      <th>title</th>\n",
       "      <th>content</th>\n",
       "      <th>likes</th>\n",
       "      <th>comments</th>\n",
       "      <th>media</th>\n",
       "      <th>subtitle</th>\n",
       "      <th>url</th>\n",
       "    </tr>\n",
       "  </thead>\n",
       "  <tbody>\n",
       "    <tr>\n",
       "      <th>0</th>\n",
       "      <td>2018-12-11</td>\n",
       "      <td>Genentech: Press Releases | Tuesday, Dec 4, 2018</td>\n",
       "      <td>The FDA recently granted Priority Review to ou...</td>\n",
       "      <td>75</td>\n",
       "      <td>1</td>\n",
       "      <td>article</td>\n",
       "      <td>gene.com</td>\n",
       "      <td>https://www.gene.com/media/press-releases/1477...</td>\n",
       "    </tr>\n",
       "    <tr>\n",
       "      <th>1</th>\n",
       "      <td>2018-12-11</td>\n",
       "      <td>Genentech: Press Releases | Wednesday, Dec 5, ...</td>\n",
       "      <td>Today at SABCS, we're sharing positive PhIII r...</td>\n",
       "      <td>47</td>\n",
       "      <td>0</td>\n",
       "      <td>article</td>\n",
       "      <td>gene.com</td>\n",
       "      <td>http://bit.ly/2QzfFbR</td>\n",
       "    </tr>\n",
       "    <tr>\n",
       "      <th>2</th>\n",
       "      <td>2018-12-11</td>\n",
       "      <td>Meet Henri Jasper PhD</td>\n",
       "      <td>Finding a place where your creative thinking a...</td>\n",
       "      <td>112</td>\n",
       "      <td>2</td>\n",
       "      <td>video</td>\n",
       "      <td>None</td>\n",
       "      <td>None</td>\n",
       "    </tr>\n",
       "  </tbody>\n",
       "</table>\n",
       "</div>"
      ],
      "text/plain": [
       "         date                                              title  \\\n",
       "0  2018-12-11   Genentech: Press Releases | Tuesday, Dec 4, 2018   \n",
       "1  2018-12-11  Genentech: Press Releases | Wednesday, Dec 5, ...   \n",
       "2  2018-12-11                              Meet Henri Jasper PhD   \n",
       "\n",
       "                                             content likes comments    media  \\\n",
       "0  The FDA recently granted Priority Review to ou...    75        1  article   \n",
       "1  Today at SABCS, we're sharing positive PhIII r...    47        0  article   \n",
       "2  Finding a place where your creative thinking a...   112        2    video   \n",
       "\n",
       "   subtitle                                                url  \n",
       "0  gene.com  https://www.gene.com/media/press-releases/1477...  \n",
       "1  gene.com                              http://bit.ly/2QzfFbR  \n",
       "2      None                                               None  "
      ]
     },
     "execution_count": 11,
     "metadata": {},
     "output_type": "execute_result"
    }
   ],
   "source": [
    "df = pd.DataFrame(l)\n",
    "df = df[['date', 'title', 'content', 'likes', 'comments', 'media', 'subtitle', 'url']]\n",
    "print(df.shape)\n",
    "df.head(3)"
   ]
  },
  {
   "cell_type": "markdown",
   "metadata": {},
   "source": [
    "## Output data"
   ]
  },
  {
   "cell_type": "code",
   "execution_count": 7,
   "metadata": {
    "collapsed": true
   },
   "outputs": [],
   "source": [
    "file_path_output = './Linkedin Parsed.xlsx'\n",
    "writer = pd.ExcelWriter(file_path_output, options={'strings_to_urls': False})\n",
    "df.to_excel(writer, index=False)\n",
    "writer.close()"
   ]
  }
 ],
 "metadata": {
  "kernelspec": {
   "display_name": "Python 3",
   "language": "python",
   "name": "python3"
  },
  "language_info": {
   "codemirror_mode": {
    "name": "ipython",
    "version": 3
   },
   "file_extension": ".py",
   "mimetype": "text/x-python",
   "name": "python",
   "nbconvert_exporter": "python",
   "pygments_lexer": "ipython3",
   "version": "3.6.5"
  },
  "toc": {
   "base_numbering": 1,
   "nav_menu": {},
   "number_sections": true,
   "sideBar": true,
   "skip_h1_title": false,
   "title_cell": "Table of Contents",
   "title_sidebar": "Contents",
   "toc_cell": false,
   "toc_position": {},
   "toc_section_display": true,
   "toc_window_display": false
  },
  "varInspector": {
   "cols": {
    "lenName": 16,
    "lenType": 16,
    "lenVar": 40
   },
   "kernels_config": {
    "python": {
     "delete_cmd_postfix": "",
     "delete_cmd_prefix": "del ",
     "library": "var_list.py",
     "varRefreshCmd": "print(var_dic_list())"
    },
    "r": {
     "delete_cmd_postfix": ") ",
     "delete_cmd_prefix": "rm(",
     "library": "var_list.r",
     "varRefreshCmd": "cat(var_dic_list()) "
    }
   },
   "types_to_exclude": [
    "module",
    "function",
    "builtin_function_or_method",
    "instance",
    "_Feature"
   ],
   "window_display": false
  }
 },
 "nbformat": 4,
 "nbformat_minor": 2
}
